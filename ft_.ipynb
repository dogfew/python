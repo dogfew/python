{
 "cells": [
  {
   "cell_type": "code",
   "execution_count": null,
   "id": "b2b7b337",
   "metadata": {},
   "outputs": [],
   "source": [
    "import numpy as np\n",
    "import seaborn as sns\n",
    "import matplotlib.pyplot as plt \n",
    "import plotly.graph_objects as go \n",
    "\n",
    "from sklearn.tree import DecisionTreeRegressor\n",
    "from sklearn.ensemble import GradientBoostingRegressor\n",
    "\n",
    "from sklearn.model_selection import train_test_split\n",
    "from sklearn.metrics import mean_squared_error"
   ]
  },
  {
   "cell_type": "code",
   "execution_count": null,
   "id": "0ac50a68",
   "metadata": {},
   "outputs": [],
   "source": [
    "def smooth_data(x, y, idx=20, estimator=DecisionTreeRegressor):\n",
    "    fig = go.Figure(data=[go.Scatter(x=x, y=y, mode='markers', name='Data', opacity=0.85)])\n",
    "    fig.update_traces(marker_size=12, marker_line_width=1.5)\n",
    "    rft = np.fft.rfft(y)\n",
    "    \n",
    "    X_train, X_test, y_train, y_test = train_test_split(x.reshape(-1, 1), y, test_size=0.85, random_state=12)\n",
    "    model = estimator().fit(X_train, y_train)\n",
    "    fig.add_traces(go.Scatter(x=x, y=model.predict(x.reshape(-1, 1)),\n",
    "                              visible=False, opacity=0.45, name=f\"Base Model\", \n",
    "                              line=go.scatter.Line(dash='dot', width=2)))\n",
    "    base_mse = mean_squared_error(y, model.predict(x.reshape(-1, 1))).round(3)\n",
    "    errors_list = []\n",
    "    for i in range(1, idx):\n",
    "        new_rft = rft.copy()\n",
    "        new_rft[i:] = 0 \n",
    "        smooth_y = np.fft.irfft(new_rft)\n",
    "        X_train, X_test, y_train, y_test = train_test_split(x.reshape(-1, 1), smooth_y, test_size=0.85, random_state=12)\n",
    "        model = estimator().fit(X_train, y_train)\n",
    "        pred = model.predict(x.reshape(-1, 1))\n",
    "        fig.add_traces(go.Scatter(x=x, y=pred, visible=False, \n",
    "                                  name='Model<br>(smoothed data)', line=go.scatter.Line(width=3, dash='dashdot')))\n",
    "        fig.add_traces(go.Scatter(x=x, y=smooth_y, visible=False, name='Smoothed data', \n",
    "                                  line=go.scatter.Line(width=3, dash='solid')))\n",
    "        errors_list.append(mean_squared_error(y, pred).round(3))\n",
    "    steps = []\n",
    "    fig.data[1].visible = True\n",
    "    fig.data[0].visible = True\n",
    "    for i in range(1, idx - 1):\n",
    "        step = dict(\n",
    "            method=\"update\",\n",
    "            args=[{\"visible\": [True] * 2 + [False] * (len(fig.data) - 1)},\n",
    "                  {\"title\": f\"Синусоид {i-1} <br>MSE: {errors_list[i - 1]} (smooth)<br>MSE: {base_mse} (base)\"}],  \n",
    "            label=f\"FFT: {i}\",\n",
    "        )\n",
    "        step[\"args\"][0][\"visible\"][2 * i] = True  \n",
    "        step[\"args\"][0][\"visible\"][2 * i + 1] = True  \n",
    "        steps.append(step)\n",
    "        sliders = [\n",
    "            dict(\n",
    "                currentvalue={\"prefix\": \"\"},\n",
    "                pad={\"t\": 50},\n",
    "                steps=steps\n",
    "            ),\n",
    "        ]\n",
    "    \n",
    "    fig.update_layout(\n",
    "        sliders=sliders,\n",
    "        title=\"Fourier Transformation\",   \n",
    "        autosize=False,\n",
    "        width=1000,\n",
    "        height=750,\n",
    "    )\n",
    "    \n",
    "    fig.update_yaxes(range=[y.min() * 0.9, y.max() * 1.1])\n",
    "    fig.show()"
   ]
  },
  {
   "cell_type": "code",
   "execution_count": null,
   "id": "0b5c477b",
   "metadata": {},
   "outputs": [],
   "source": [
    "x = np.linspace(0, 5, 284)\n",
    "y = (lambda x: x ** 2 / 2 - x ** 3 / 6 + x ** 4 / 125)(x)\n",
    "\n",
    "base_noise = 0.2\n",
    "bonus_noise = 1 \n",
    "noise = np.random.normal(0, base_noise, size=len(x))\n",
    "bonus_noise = np.random.normal(0, bonus_noise, size=len(x)) * np.random.choice([0, 1], size=len(x), p=[0.75, 0.25])\n",
    "y += noise\n",
    "y += bonus_noise"
   ]
  },
  {
   "cell_type": "code",
   "execution_count": null,
   "id": "79791b61",
   "metadata": {
    "scrolled": false
   },
   "outputs": [],
   "source": [
    "smooth_data(x, y, idx=int(len(y) ** 0.9), estimator=GradientBoostingRegressor)"
   ]
  },
  {
   "cell_type": "code",
   "execution_count": null,
   "id": "b4758893",
   "metadata": {},
   "outputs": [],
   "source": [
    "def ft(x):\n",
    "    N = len(x)\n",
    "    return np.array([sum(x * np.exp(-2j * np.pi / N * k * np.arange(len(x)))) for k in range(N)])\n",
    "\n",
    "def ift(x):\n",
    "    N = len(x)\n",
    "    return np.array([sum(x * np.exp(2j * np.pi / N * n * np.arange(len(x)))) for n in range(N)]) / N"
   ]
  }
 ],
 "metadata": {
  "kernelspec": {
   "display_name": "Python 3 (ipykernel)",
   "language": "python",
   "name": "python3"
  },
  "language_info": {
   "codemirror_mode": {
    "name": "ipython",
    "version": 3
   },
   "file_extension": ".py",
   "mimetype": "text/x-python",
   "name": "python",
   "nbconvert_exporter": "python",
   "pygments_lexer": "ipython3",
   "version": "3.10.8"
  }
 },
 "nbformat": 4,
 "nbformat_minor": 5
}
