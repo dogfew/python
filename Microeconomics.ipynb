{
 "cells": [
  {
   "cell_type": "code",
   "execution_count": null,
   "id": "bdb5b126",
   "metadata": {},
   "outputs": [],
   "source": [
    "!pip3 install sympy"
   ]
  },
  {
   "cell_type": "code",
   "execution_count": 2,
   "id": "d5b2d4f2",
   "metadata": {},
   "outputs": [],
   "source": [
    "from sympy import * \n",
    "from sympy.abc import * \n",
    "init_printing()"
   ]
  },
  {
   "cell_type": "code",
   "execution_count": 23,
   "id": "f829090a",
   "metadata": {},
   "outputs": [
    {
     "name": "stdout",
     "output_type": "stream",
     "text": [
      "[70.0, 60.0, 50.0, 40.0, 30.0, 20.0]\n",
      "[50.0, 30.0, 10.0, 20.0, 30.0, 40.0]\n",
      "[-800, -500, -100, 100, 100, -100]\n"
     ]
    }
   ],
   "source": [
    "'''Найти MC, MR в дискретном случае'''\n",
    "# MR = dTR / dQ\n",
    "prices = [80, 70, 65, 60, 55, 50, 45]\n",
    "quantity = [0, 10, 20, 30, 40, 50, 60]\n",
    "total_cost = [1000, 1500, 1800, 1900, 2100, 2400, 2800]\n",
    "MR = []\n",
    "MC = []\n",
    "profits = []\n",
    "for i in range(len(prices))[1:]:\n",
    "    dTR = prices[i] * quantity[i] - prices[i - 1] * quantity[i - 1]\n",
    "    dTC = total_cost[i] - total_cost[i-1]\n",
    "    dQ = quantity[i] - quantity[i-1]\n",
    "    MR.append(dTR/dQ)\n",
    "    MC.append(dTC/dQ)\n",
    "    profits.append(prices[i] * quantity[i] - total_cost[i])\n",
    "print(MR)\n",
    "print(MC)\n",
    "print(profits)"
   ]
  },
  {
   "cell_type": "code",
   "execution_count": 45,
   "id": "5032ef08",
   "metadata": {
    "scrolled": true
   },
   "outputs": [
    {
     "data": {
      "image/png": "[encoded data removed]",
      "text/latex": [
       "$\\displaystyle -0.888888888888889$"
      ],
      "text/plain": [
       "-0.8888888888888887"
      ]
     },
     "execution_count": 45,
     "metadata": {},
     "output_type": "execute_result"
    }
   ],
   "source": [
    "A, B = 14, 22\n",
    "dp = - A\n",
    "def E_DP(dq, dp, p, q): \n",
    "    '''Точечная эластичность спроса по цене'''\n",
    "    return dq / dp * p / q\n",
    "E_DP(-4, +3, 14, 21)"
   ]
  },
  {
   "cell_type": "code",
   "execution_count": 26,
   "id": "cd214eb4",
   "metadata": {},
   "outputs": [
    {
     "data": {
      "image/png": "[encoded data removed]",
      "text/latex": [
       "$\\displaystyle \\left\\{ P : 100, \\  Q : 20\\right\\}$"
      ],
      "text/plain": [
       "{P: 100, Q: 20}"
      ]
     },
     "execution_count": 26,
     "metadata": {},
     "output_type": "execute_result"
    }
   ],
   "source": [
    "'''Эластичность по цене'''\n",
    "MR = 120 - 2 * Q\n",
    "MC = 20 + 3 * Q\n",
    "D = 120 - Q\n",
    "p = symbols('p')\n",
    "solver = solve([MR - MC])\n",
    "solver[symbols(\"P\")] = D.subs(Q, solver[Q])\n",
    "solver"
   ]
  },
  {
   "cell_type": "code",
   "execution_count": 27,
   "id": "afeaa4a6",
   "metadata": {},
   "outputs": [
    {
     "data": {
      "image/png": "[encoded data removed]",
      "text/latex": [
       "$\\displaystyle -5$"
      ],
      "text/plain": [
       "-5"
      ]
     },
     "execution_count": 27,
     "metadata": {},
     "output_type": "execute_result"
    }
   ],
   "source": [
    "Elasticity = diff(solve(D - p, Q)[0]) * solver[symbols(\"P\")] / solver[symbols(\"Q\")]\n",
    "Elasticity"
   ]
  },
  {
   "cell_type": "code",
   "execution_count": 28,
   "id": "3f30527e",
   "metadata": {},
   "outputs": [
    {
     "data": {
      "image/png": "[encoded data removed]",
      "text/latex": [
       "$\\displaystyle \\frac{1}{5}$"
      ],
      "text/plain": [
       "1/5"
      ]
     },
     "execution_count": 28,
     "metadata": {},
     "output_type": "execute_result"
    }
   ],
   "source": [
    "'''Индекс Лернера'''\n",
    "Lerner = 1 / abs(Elasticity)\n",
    "Lerner"
   ]
  },
  {
   "cell_type": "code",
   "execution_count": 29,
   "id": "3005da62",
   "metadata": {},
   "outputs": [],
   "source": [
    "'''Входные данные'''\n",
    "Q_1, Q_2 = symbols('Q_1 Q_2')\n",
    "P = 210 - 2 * (Q_1 + Q_2)\n",
    "TC_1 = 3 * Q_1 ** 2 + 10 * Q_1 \n",
    "TC_2 = 5 * Q_2 ** 2 \n"
   ]
  },
  {
   "cell_type": "code",
   "execution_count": 30,
   "id": "e04a83e6",
   "metadata": {},
   "outputs": [
    {
     "data": {
      "image/png": "[encoded data removed]",
      "text/latex": [
       "$\\displaystyle \\left\\{ P : 150, \\  Q_{1} : \\frac{35}{2}, \\  Q_{2} : \\frac{25}{2}\\right\\}$"
      ],
      "text/plain": [
       "{P: 150, Q₁: 35/2, Q₂: 25/2}"
      ]
     },
     "execution_count": 30,
     "metadata": {},
     "output_type": "execute_result"
    }
   ],
   "source": [
    "'''Модель Курно'''\n",
    "profit_1 = P * Q_1 - TC_1\n",
    "profit_2 = P * Q_2 - TC_2\n",
    "BR_1 = solve(diff(profit_1, Q_1), Q_1)[0]\n",
    "BR_2 = solve(diff(profit_2, Q_2), Q_2)[0]\n",
    "solution = solve([BR_1 - Q_1, BR_2 - Q_2])\n",
    "solution[symbols(\"P\")] = P.subs(solution)\n",
    "solution # {k:float(v) for k, v in solution.items()}"
   ]
  },
  {
   "cell_type": "code",
   "execution_count": 31,
   "id": "c57d9099",
   "metadata": {},
   "outputs": [
    {
     "data": {
      "image/png": "[encoded data removed]",
      "text/latex": [
       "$\\displaystyle \\left\\{ P : \\frac{4930}{33}, \\  Q_{1} : \\frac{575}{33}, \\  Q_{2} : \\frac{425}{33}\\right\\}$"
      ],
      "text/plain": [
       "⎧   4930      575      425⎫\n",
       "⎨P: ────, Q₁: ───, Q₂: ───⎬\n",
       "⎩    33        33       33⎭"
      ]
     },
     "execution_count": 31,
     "metadata": {},
     "output_type": "execute_result"
    }
   ],
   "source": [
    "'''Модель Штакельберга'''\n",
    "profit_1 = P * Q_1 - TC_1\n",
    "BR_1 = solve(diff(profit_1, Q_1), Q_1)[0] # BR\n",
    "profit_2 = (P * Q_2 - TC_2).subs(Q_1, BR_1) # subs in profit\n",
    "BR_2 = solve(diff(profit_2, Q_2), Q_2)[0]\n",
    "solution = solve([BR_1 - Q_1, BR_2 - Q_2])\n",
    "solution[symbols(\"P\")] = P.subs(solution)\n",
    "solution # {k:float(v) for k, v in solution.items()}"
   ]
  },
  {
   "cell_type": "code",
   "execution_count": 32,
   "id": "1456d3a2",
   "metadata": {},
   "outputs": [
    {
     "data": {
      "image/png": "[encoded data removed]",
      "text/latex": [
       "$\\displaystyle \\left\\{ P : \\frac{3200}{23}, \\  Q_{1} : \\frac{495}{23}, \\  Q_{2} : \\frac{320}{23}\\right\\}$"
      ],
      "text/plain": [
       "⎧   3200      495      320⎫\n",
       "⎨P: ────, Q₁: ───, Q₂: ───⎬\n",
       "⎩    23        23       23⎭"
      ]
     },
     "execution_count": 32,
     "metadata": {},
     "output_type": "execute_result"
    }
   ],
   "source": [
    "'''Модель Бертрана''' \n",
    "# Некооперативная дуополия\n",
    "profit_1 = P * Q_1 - TC_1\n",
    "profit_2 = P * Q_2 - TC_2\n",
    "MC_1 = diff(TC_1, Q_1)\n",
    "MC_2 = diff(TC_2, Q_2)\n",
    "solution = solve([P - MC_1, P - MC_2])\n",
    "solution[symbols(\"P\")] = P.subs(solution)\n",
    "solution # {k:float(v) for k, v in solution.items()}"
   ]
  },
  {
   "cell_type": "code",
   "execution_count": 33,
   "id": "dcb0e9dd",
   "metadata": {},
   "outputs": [
    {
     "data": {
      "image/png": "[encoded data removed]",
      "text/latex": [
       "$\\displaystyle \\left\\{ P : \\frac{4075}{28}, \\  Q_{1} : \\frac{815}{56}, \\  Q_{2} : \\frac{495}{28}\\right\\}$"
      ],
      "text/plain": [
       "⎧   4075      815      495⎫\n",
       "⎨P: ────, Q₁: ───, Q₂: ───⎬\n",
       "⎩    28        56       28⎭"
      ]
     },
     "execution_count": 33,
     "metadata": {},
     "output_type": "execute_result"
    }
   ],
   "source": [
    "'''Модель Форхаймера''' \n",
    "# Есть доминирующая фирма. Я всё криво сделал, потому что не понял ничего.\n",
    "solution = {}\n",
    "profit_1 = P * Q_1 - TC_1\n",
    "profit_2 = P * Q_2 - TC_2\n",
    "MC_2 = diff(TC_2, Q_2)\n",
    "Q_2o = solve(P - p, Q_1)[0].subs(Q_2, solve(p - MC_2, Q_2)[0])\n",
    "solution[symbols(\"P\")] = solve(Q_2o - Q_2, p)[0]\n",
    "solution[symbols(\"Q_2\")] = solve( # Угол наклона в 2 раза больше??!?\n",
    "    solution[symbols(\"P\")].subs(Q_2, 2 * Q_1) - diff(TC_1), Q_1)[0]\n",
    "solution[symbols(\"P\")] = solution[symbols(\"P\")].subs(Q_2, solution[symbols(\"Q_2\")])\n",
    "solution[symbols(\"Q_1\")] = solve(MC_2 - p, Q_2)[0].subs(p, solution[symbols(\"P\")])\n",
    "solution"
   ]
  },
  {
   "cell_type": "code",
   "execution_count": null,
   "id": "27f4683d",
   "metadata": {},
   "outputs": [],
   "source": []
  },
  {
   "cell_type": "code",
   "execution_count": 39,
   "id": "f36de58f",
   "metadata": {},
   "outputs": [
    {
     "data": {
      "image/png": "[encoded data removed]",
      "text/latex": [
       "$\\displaystyle \\left[ \\frac{20}{3}\\right]$"
      ],
      "text/plain": [
       "[20/3]"
      ]
     },
     "execution_count": 39,
     "metadata": {},
     "output_type": "execute_result"
    }
   ],
   "source": [
    "'''Найти равновесную цену'''\n",
    "Q_D = 60 - p\n",
    "Q_S = 40 + 2 * p\n",
    "solve(Q_D - Q_S)"
   ]
  },
  {
   "cell_type": "code",
   "execution_count": 42,
   "id": "24ac7d9d",
   "metadata": {},
   "outputs": [
    {
     "data": {
      "image/png": "[encoded data removed]",
      "text/latex": [
       "$\\displaystyle 16800.0$"
      ],
      "text/plain": [
       "16800.0000000000"
      ]
     },
     "execution_count": 42,
     "metadata": {},
     "output_type": "execute_result"
    }
   ],
   "source": [
    "'''Найти количество фирм'''\n",
    "A, B = 14, 24\n",
    "N = 10 * B\n",
    "TC = A * q + 0.5 * q ** 2 + 1000\n",
    "P = 6 * A\n",
    "profit = P * q - TC\n",
    "N * solve(diff(profit, q), q)[0]"
   ]
  },
  {
   "cell_type": "code",
   "execution_count": 36,
   "id": "47bd522a",
   "metadata": {},
   "outputs": [
    {
     "data": {
      "image/png": "[encoded data removed]",
      "text/latex": [
       "$\\displaystyle 17400$"
      ],
      "text/plain": [
       "17400"
      ]
     },
     "execution_count": 36,
     "metadata": {},
     "output_type": "execute_result"
    }
   ],
   "source": [
    "5 * 12 * 10 * 29"
   ]
  },
  {
   "cell_type": "code",
   "execution_count": null,
   "id": "94c6f01f",
   "metadata": {},
   "outputs": [],
   "source": [
    "'''Задача с Робинзоном'''\n",
    "# u = min(x, 4y)"
   ]
  },
  {
   "cell_type": "code",
   "execution_count": 217,
   "id": "7ffcb62f",
   "metadata": {},
   "outputs": [
    {
     "data": {
      "image/png": "[encoded data removed]",
      "text/latex": [
       "$\\displaystyle \\left\\{ x : \\sqrt{L_{x}}, \\  y : \\sqrt{L_{y}}\\right\\}$"
      ],
      "text/plain": [
       "⎧     ____       _____⎫\n",
       "⎨x: ╲╱ Lₓ , y: ╲╱ L_y ⎬\n",
       "⎩                     ⎭"
      ]
     },
     "execution_count": 217,
     "metadata": {},
     "output_type": "execute_result"
    }
   ],
   "source": [
    "L_x, L_y = symbols('L_x L_y')\n",
    "expr_x = sqrt(L_x)\n",
    "expr_y = sqrt(L_y)\n",
    "{x: expr_x, y: expr_y}"
   ]
  },
  {
   "cell_type": "code",
   "execution_count": 218,
   "id": "756cbfa4",
   "metadata": {},
   "outputs": [
    {
     "data": {
      "image/png": "[encoded data removed]",
      "text/latex": [
       "$\\displaystyle x^{2} + y^{2} - 200$"
      ],
      "text/plain": [
       " 2    2      \n",
       "x  + y  - 200"
      ]
     },
     "execution_count": 218,
     "metadata": {},
     "output_type": "execute_result"
    }
   ],
   "source": [
    "PPF = solve(expr_x - x, L_x)[0] + solve(expr_y - y, L_y)[0] - 200\n",
    "PPF"
   ]
  },
  {
   "cell_type": "code",
   "execution_count": 221,
   "id": "d014cba1",
   "metadata": {},
   "outputs": [
    {
     "data": {
      "image/png": "[encoded data removed]",
      "text/latex": [
       "$\\displaystyle \\left\\{ x : \\frac{40 \\sqrt{34}}{17}, \\  y : \\frac{10 \\sqrt{34}}{17}\\right\\}$"
      ],
      "text/plain": [
       "⎧   40⋅√34     10⋅√34⎫\n",
       "⎨x: ──────, y: ──────⎬\n",
       "⎩     17         17  ⎭"
      ]
     },
     "execution_count": 221,
     "metadata": {},
     "output_type": "execute_result"
    }
   ],
   "source": [
    "solver = [d for d in solve([PPF.subs(y, x / 4), PPF.subs(x, y * 4)])\n",
    "                                          if all(x > 0 for x in d.values())][0]\n",
    "solver"
   ]
  },
  {
   "cell_type": "code",
   "execution_count": 222,
   "id": "fd1a73bb",
   "metadata": {},
   "outputs": [
    {
     "data": {
      "image/png": "[encoded data removed]",
      "text/latex": [
       "$\\displaystyle \\left\\{ MRT : 4\\right\\}$"
      ],
      "text/plain": [
       "{MRT: 4}"
      ]
     },
     "execution_count": 222,
     "metadata": {},
     "output_type": "execute_result"
    }
   ],
   "source": [
    "MRT = (diff(PPF, x) / diff(PPF, y)).subs(x, solver[x]).subs(y, solver[y])\n",
    "{symbols('MRT'): MRT}"
   ]
  },
  {
   "cell_type": "code",
   "execution_count": 223,
   "id": "23fde363",
   "metadata": {},
   "outputs": [],
   "source": [
    "'''Moral Hazard'''\n",
    "w = 900\n",
    "u = lambda x: sqrt(x)\n",
    "e = (0, 1)\n",
    "pi = (0.3, 0.1)\n"
   ]
  },
  {
   "cell_type": "code",
   "execution_count": 224,
   "id": "b45d105a",
   "metadata": {},
   "outputs": [
    {
     "data": {
      "image/png": "[encoded data removed]",
      "text/latex": [
       "$\\displaystyle \\left\\{ IC_{L} : 0.1 \\sqrt{\\alpha} + 0.9 \\sqrt{900 - \\beta} - 1, \\  IC_{R} : 0.3 \\sqrt{\\alpha} + 0.7 \\sqrt{900 - \\beta}, \\  u_{1} : 0.1 \\sqrt{\\alpha} - \\beta + 26.0\\right\\}$"
      ],
      "text/plain": [
       "⎧                     _________                           _________                       ⎫\n",
       "⎨IC_L: 0.1⋅√α + 0.9⋅╲╱ 900 - β  - 1, IC_R: 0.3⋅√α + 0.7⋅╲╱ 900 - β , u₁: 0.1⋅√α - β + 26.0⎬\n",
       "⎩                                                                                         ⎭"
      ]
     },
     "execution_count": 224,
     "metadata": {},
     "output_type": "execute_result"
    }
   ],
   "source": [
    "'''Second Best'''\n",
    "u_1, IC_L, IC_R, IR, IC = symbols('u_1 IC_L IC_R IR IC')\n",
    "dictionary = {u_1: (1 - pi[1]) * u(w) + pi[1] * u(alpha) - e[1] - beta,\n",
    "            IC_L: pi[1] * u(alpha) + (1 - pi[1]) * u(w - beta) - e[1],\n",
    "            IC_R: pi[0] * u(alpha) + (1 - pi[0]) * u(w - beta) - e[0]\n",
    "             }\n",
    "dictionary"
   ]
  },
  {
   "cell_type": "code",
   "execution_count": 225,
   "id": "e6a21082",
   "metadata": {},
   "outputs": [
    {
     "data": {
      "image/png": "[encoded data removed]",
      "text/latex": [
       "$\\displaystyle \\left\\{ IC : - 0.2 \\sqrt{\\alpha} + 0.2 \\sqrt{900 - \\beta} - 1, \\  IR : 0.1 \\sqrt{\\alpha} + 0.9 \\sqrt{900 - \\beta} - 27.0, \\  u_{1} : 0.1 \\sqrt{\\alpha} - \\beta + 26.0\\right\\}$"
      ],
      "text/plain": [
       "⎧                    _________                         _________                              ⎫\n",
       "⎨IC: -0.2⋅√α + 0.2⋅╲╱ 900 - β  - 1, IR: 0.1⋅√α + 0.9⋅╲╱ 900 - β  - 27.0, u₁: 0.1⋅√α - β + 26.0⎬\n",
       "⎩                                                                                             ⎭"
      ]
     },
     "execution_count": 225,
     "metadata": {},
     "output_type": "execute_result"
    }
   ],
   "source": [
    "dictionary[IR] = dictionary[IC_L] - dictionary[u_1].subs({alpha: 0, beta:0})\n",
    "dictionary[IC] = dictionary[IC_L] - dictionary[IC_R]\n",
    "dictionary.pop(IC_R)\n",
    "dictionary.pop(IC_L)\n",
    "dictionary"
   ]
  },
  {
   "cell_type": "code",
   "execution_count": 226,
   "id": "4d743ee4",
   "metadata": {},
   "outputs": [
    {
     "data": {
      "image/png": "[encoded data removed]",
      "text/latex": [
       "$\\displaystyle \\left\\{ \\alpha : 506.25, \\  \\beta : 143.75\\right\\}$"
      ],
      "text/plain": [
       "{α: 506.25, β: 143.75}"
      ]
     },
     "execution_count": 226,
     "metadata": {},
     "output_type": "execute_result"
    }
   ],
   "source": [
    "contract = solve([dictionary[IC], dictionary[IR]])[0]\n",
    "contract"
   ]
  },
  {
   "cell_type": "code",
   "execution_count": 227,
   "id": "d3cbe4ed",
   "metadata": {},
   "outputs": [
    {
     "data": {
      "image/png": "[encoded data removed]",
      "text/latex": [
       "$\\displaystyle \\left\\{ \\pi_{1} : 78.75, \\  \\pi_{2} : -51.25\\right\\}$"
      ],
      "text/plain": [
       "{π₁: 78.75, π₂: -51.25}"
      ]
     },
     "execution_count": 227,
     "metadata": {},
     "output_type": "execute_result"
    }
   ],
   "source": [
    "pi_1, pi_2 = symbols('pi_1 pi_2')\n",
    "profits = {pi_1: 0, pi_2: 0}\n",
    "profits[pi_1] = ((1 - pi[1]) * beta - pi[1] * alpha).subs(contract)\n",
    "profits[pi_2] = ((1 - pi[0]) * beta - pi[0] * alpha).subs(contract)\n",
    "profits"
   ]
  },
  {
   "cell_type": "code",
   "execution_count": 228,
   "id": "671c87a8",
   "metadata": {},
   "outputs": [
    {
     "data": {
      "image/png": "[encoded data removed]",
      "text/latex": [
       "$\\displaystyle \\left\\{ \\alpha : 729.0, \\  \\beta : 171.0\\right\\}$"
      ],
      "text/plain": [
       "{α: 729.0, β: 171.0}"
      ]
     },
     "execution_count": 228,
     "metadata": {},
     "output_type": "execute_result"
    }
   ],
   "source": [
    "'''First-Best'''\n",
    "fb_contract = solve([dictionary[IR], u(w - beta) - u(alpha)])[0]\n",
    "fb_contract"
   ]
  },
  {
   "cell_type": "code",
   "execution_count": 229,
   "id": "aa4f529e",
   "metadata": {},
   "outputs": [
    {
     "data": {
      "image/png": "[encoded data removed]",
      "text/latex": [
       "$\\displaystyle \\left\\{ \\pi_{1} : 81.0, \\  \\pi_{2} : -99.0\\right\\}$"
      ],
      "text/plain": [
       "{π₁: 81.0, π₂: -99.0}"
      ]
     },
     "execution_count": 229,
     "metadata": {},
     "output_type": "execute_result"
    }
   ],
   "source": [
    "profits = {pi_1: 0, pi_2: 0}\n",
    "profits[pi_1] = ((1 - pi[1]) * beta - pi[1] * alpha).subs(fb_contract)\n",
    "profits[pi_2] = ((1 - pi[0]) * beta - pi[0] * alpha).subs(fb_contract)\n",
    "profits"
   ]
  },
  {
   "cell_type": "code",
   "execution_count": 230,
   "id": "93eb79d8",
   "metadata": {},
   "outputs": [
    {
     "data": {
      "image/png": "[encoded data removed]",
      "text/latex": [
       "$\\displaystyle \\left\\{ \\pi_{1} : - \\frac{x^{2}}{2} + 11 x - \\left(4 - z\\right)^{2}, \\  \\pi_{2} : - \\frac{y^{2}}{2} - y z + 14 y\\right\\}$"
      ],
      "text/plain": [
       "⎧       2                           2             ⎫\n",
       "⎪      x                  2        y              ⎪\n",
       "⎨π₁: - ── + 11⋅x - (4 - z) , π₂: - ── - y⋅z + 14⋅y⎬\n",
       "⎪      2                           2              ⎪\n",
       "⎩                                                 ⎭"
      ]
     },
     "execution_count": 230,
     "metadata": {},
     "output_type": "execute_result"
    }
   ],
   "source": [
    "'''Externalities'''\n",
    "# X - норм. благо первой фирмы \n",
    "# \n",
    "c = x ** 2 / 2 + (4 - z) ** 2, \\\n",
    "    y ** 2 / 2 + z * y\n",
    "p = 11, 14\n",
    "profits = {pi_1: x * p[0] - c[0], \n",
    "           pi_2: y * p[1] - c[1]}\n",
    "profits"
   ]
  },
  {
   "cell_type": "code",
   "execution_count": 231,
   "id": "a0b1b8ba",
   "metadata": {},
   "outputs": [
    {
     "data": {
      "image/png": "[encoded data removed]",
      "text/latex": [
       "$\\displaystyle \\left\\{ x : 11, \\  y : 10, \\  z : 4\\right\\}$"
      ],
      "text/plain": [
       "{x: 11, y: 10, z: 4}"
      ]
     },
     "execution_count": 231,
     "metadata": {},
     "output_type": "execute_result"
    }
   ],
   "source": [
    "solver = solve([diff(profits[pi_1], x), \n",
    "                diff(profits[pi_1], z), \n",
    "                diff(profits[pi_2], y)])\n",
    "solver"
   ]
  },
  {
   "cell_type": "code",
   "execution_count": 232,
   "id": "94945998",
   "metadata": {},
   "outputs": [
    {
     "data": {
      "image/png": "[encoded data removed]",
      "text/latex": [
       "$\\displaystyle \\left\\{ x : 11, \\  y : 20, \\  z : -6\\right\\}$"
      ],
      "text/plain": [
       "{x: 11, y: 20, z: -6}"
      ]
     },
     "execution_count": 232,
     "metadata": {},
     "output_type": "execute_result"
    }
   ],
   "source": [
    "'''Social Planner'''\n",
    "pi_s = symbols('pi_s')\n",
    "profits[pi_s] = profits[pi_1] + profits[pi_2]\n",
    "soc_solver = solve([diff(profits[pi_s], x), \n",
    "                    diff(profits[pi_s], z), \n",
    "                    diff(profits[pi_s], y)])\n",
    "soc_solver"
   ]
  },
  {
   "cell_type": "code",
   "execution_count": 233,
   "id": "3a9f9a99",
   "metadata": {},
   "outputs": [
    {
     "data": {
      "image/png": "[encoded data removed]",
      "text/latex": [
       "$\\displaystyle \\left\\{ \\pi_{1T} : - q z - \\frac{x^{2}}{2} + 11 x - \\left(4 - z\\right)^{2}, \\  \\pi_{2T} : q z - \\frac{y^{2}}{2} - y z + 14 y\\right\\}$"
      ],
      "text/plain": [
       "⎧              2                                 2             ⎫\n",
       "⎪             x                  2              y              ⎪\n",
       "⎨π_1T: -q⋅z - ── + 11⋅x - (4 - z) , π_2T: q⋅z - ── - y⋅z + 14⋅y⎬\n",
       "⎪             2                                 2              ⎪\n",
       "⎩                                                              ⎭"
      ]
     },
     "execution_count": 233,
     "metadata": {},
     "output_type": "execute_result"
    }
   ],
   "source": [
    "'''Taxes'''\n",
    "pi_1T, pi_2T = symbols('pi_1T pi_2T')\n",
    "profits[pi_1T], profits[pi_2T]= x * p[0] - c[0] - q * z, \\\n",
    "                                y * p[1] - c[1] + q * z\n",
    "{pi_1T: profits[pi_1T], pi_2T: profits[pi_2T]}"
   ]
  },
  {
   "cell_type": "code",
   "execution_count": 234,
   "id": "8fe00b0f",
   "metadata": {},
   "outputs": [
    {
     "data": {
      "image/png": "[encoded data removed]",
      "text/latex": [
       "$\\displaystyle \\left\\{ q : \\frac{100}{3}\\right\\}$"
      ],
      "text/plain": [
       "{q: 100/3}"
      ]
     },
     "execution_count": 234,
     "metadata": {},
     "output_type": "execute_result"
    }
   ],
   "source": [
    "tax_solver = solve([profits[pi_2T].subs(soc_solver)])\n",
    "tax_solver"
   ]
  },
  {
   "cell_type": "code",
   "execution_count": null,
   "id": "1f771d41",
   "metadata": {},
   "outputs": [],
   "source": []
  },
  {
   "cell_type": "code",
   "execution_count": 235,
   "id": "048ea3e3",
   "metadata": {},
   "outputs": [
    {
     "data": {
      "image/png": "[encoded data removed]",
      "text/latex": [
       "$\\displaystyle \\left\\{ x : \\frac{125}{2}, \\  y : 0\\right\\}$"
      ],
      "text/plain": [
       "{x: 125/2, y: 0}"
      ]
     },
     "execution_count": 235,
     "metadata": {},
     "output_type": "execute_result"
    }
   ],
   "source": [
    "'''Public Goods'''\n",
    "w = 250, 250\n",
    "u = 3 * ln(w[0] - x) + ln(x + y), \\\n",
    "    4 * ln(w[1] - y) + ln(x + y), \n",
    "\n",
    "'''independently and simultaneously'''\n",
    "solve([diff(u[0], x), \n",
    "       diff(u[1], y)])"
   ]
  },
  {
   "cell_type": "code",
   "execution_count": 236,
   "id": "1ef80a94",
   "metadata": {},
   "outputs": [
    {
     "data": {
      "image/png": "[encoded data removed]",
      "text/latex": [
       "$\\displaystyle \\left\\{ x : \\frac{250}{3}, \\  y : \\frac{250}{9}\\right\\}$"
      ],
      "text/plain": [
       "{x: 250/3, y: 250/9}"
      ]
     },
     "execution_count": 236,
     "metadata": {},
     "output_type": "execute_result"
    }
   ],
   "source": [
    "'''Social Planner'''\n",
    "u_social = u[0] + u[1]\n",
    "solve([diff(u_social, x),\n",
    "       diff(u_social, y)])"
   ]
  },
  {
   "cell_type": "code",
   "execution_count": 237,
   "id": "fd250f84",
   "metadata": {},
   "outputs": [
    {
     "data": {
      "text/plain": [
       "{'Taxes': {'A': 0, 'B': 285, 'C': 0},\n",
       " 'Net Benefits': {'A': 490, 'B': 665, 'C': 270}}"
      ]
     },
     "execution_count": 237,
     "metadata": {},
     "output_type": "execute_result"
    }
   ],
   "source": [
    "'''VCG'''\n",
    "import numpy as np \n",
    "\n",
    "\n",
    "def VCG(matrix):\n",
    "    taxes = {chr(i + 65):0 for i in range(len(matrix))}\n",
    "    net_benefits = taxes.copy()\n",
    "    utilities = [(sum(i), x) for x, i in enumerate(matrix.T)]\n",
    "    max_utility, n_opt = max(utilities, key=lambda x: x[0])\n",
    "    for i, c in enumerate(taxes.keys()):\n",
    "        exclude = np.vstack((matrix[:i], matrix[i + 1:]))\n",
    "        exclude_alternatives = [(sum(i), x) for x, i in enumerate(exclude.T)]\n",
    "        utility, n = max(exclude_alternatives, key=lambda x: x[0])\n",
    "        if n != n_opt:\n",
    "            taxes[c] = exclude_alternatives[n][0] - exclude_alternatives[n_opt][0]\n",
    "        net_benefits[c] = max_utility - utility\n",
    "    return {\"Taxes\":taxes,\n",
    "            \"Net Benefits\": net_benefits}\n",
    "\n",
    "\n",
    "\n",
    "\n",
    "example = np.array([\n",
    "    [0, 350, 925, 490],\n",
    "    [0, 370, 510, 950],\n",
    "    [0, 140, 120, 270]\n",
    "])\n",
    "\n",
    "VCG(example)"
   ]
  },
  {
   "cell_type": "code",
   "execution_count": null,
   "id": "eb6a327d",
   "metadata": {},
   "outputs": [],
   "source": []
  }
 ],
 "metadata": {
  "kernelspec": {
   "display_name": "Python 3 (ipykernel)",
   "language": "python",
   "name": "python3"
  },
  "language_info": {
   "codemirror_mode": {
    "name": "ipython",
    "version": 3
   },
   "file_extension": ".py",
   "mimetype": "text/x-python",
   "name": "python",
   "nbconvert_exporter": "python",
   "pygments_lexer": "ipython3",
   "version": "3.9.9"
  }
 },
 "nbformat": 4,
 "nbformat_minor": 5
}
