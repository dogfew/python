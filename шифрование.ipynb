{
 "cells": [
  {
   "cell_type": "code",
   "execution_count": 27,
   "id": "4d0b4563",
   "metadata": {},
   "outputs": [
    {
     "name": "stdout",
     "output_type": "stream",
     "text": [
      "lox\n"
     ]
    },
    {
     "data": {
      "text/plain": [
       "['6c', '6f', '78']"
      ]
     },
     "execution_count": 27,
     "metadata": {},
     "output_type": "execute_result"
    }
   ],
   "source": [
    "message = [i for i in input()]\n",
    "code = [symbol.encode('utf-8').hex() for symbol in message]\n",
    "code"
   ]
  },
  {
   "cell_type": "code",
   "execution_count": 22,
   "id": "1b4489f2",
   "metadata": {
    "scrolled": true
   },
   "outputs": [
    {
     "name": "stdout",
     "output_type": "stream",
     "text": [
      "108 l\n",
      "111 o\n",
      "120 x\n"
     ]
    }
   ],
   "source": [
    "ekey = 0x10\n",
    "encr = []\n",
    "for number in code:\n",
    "    ncode = eval(f'0x{number}')\n",
    "    print(ncode, chr(ncode))\n",
    "    encr.append(ncode ^ ekey)"
   ]
  },
  {
   "cell_type": "code",
   "execution_count": 23,
   "id": "4416e764",
   "metadata": {},
   "outputs": [
    {
     "data": {
      "text/plain": [
       "'|\\x7fh'"
      ]
     },
     "execution_count": 23,
     "metadata": {},
     "output_type": "execute_result"
    }
   ],
   "source": [
    "encrypted_message = ''.join([chr(number) for number in encr])\n",
    "encrypted_message"
   ]
  },
  {
   "cell_type": "code",
   "execution_count": 24,
   "id": "55c4a511",
   "metadata": {},
   "outputs": [
    {
     "data": {
      "text/plain": [
       "['7c', '7f', '68']"
      ]
     },
     "execution_count": 24,
     "metadata": {},
     "output_type": "execute_result"
    }
   ],
   "source": [
    "decode = [symbol.encode('utf-8').hex() for symbol in encrypted_message]\n",
    "decode"
   ]
  },
  {
   "cell_type": "code",
   "execution_count": 29,
   "id": "ac779923",
   "metadata": {},
   "outputs": [
    {
     "name": "stdout",
     "output_type": "stream",
     "text": [
      "Enter your key: 0x10\n"
     ]
    },
    {
     "data": {
      "text/plain": [
       "'lox'"
      ]
     },
     "execution_count": 29,
     "metadata": {},
     "output_type": "execute_result"
    }
   ],
   "source": [
    "decoded_message = []\n",
    "dkey = eval(input('Enter your key: '))\n",
    "for symbol in decode:\n",
    "    ncode = eval(f'0x{symbol}')\n",
    "    decoded_message.append(ncode ^ dkey)\n",
    "''.join([chr(i) for i in decoded_message])"
   ]
  },
  {
   "cell_type": "code",
   "execution_count": null,
   "id": "332d7307",
   "metadata": {},
   "outputs": [],
   "source": []
  }
 ],
 "metadata": {
  "kernelspec": {
   "display_name": "Python 3",
   "language": "python",
   "name": "python3"
  },
  "language_info": {
   "codemirror_mode": {
    "name": "ipython",
    "version": 3
   },
   "file_extension": ".py",
   "mimetype": "text/x-python",
   "name": "python",
   "nbconvert_exporter": "python",
   "pygments_lexer": "ipython3",
   "version": "3.9.5"
  }
 },
 "nbformat": 4,
 "nbformat_minor": 5
}
