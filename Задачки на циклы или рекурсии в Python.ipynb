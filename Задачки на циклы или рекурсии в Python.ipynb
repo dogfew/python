{
 "cells": [
  {
   "cell_type": "markdown",
   "id": "2d34e493",
   "metadata": {},
   "source": [
    "Дано натуральное число n. Проверить, является ли оно простым. Если является, вывести True, иначе False"
   ]
  },
  {
   "cell_type": "code",
   "execution_count": 72,
   "id": "bdc726b4",
   "metadata": {
    "scrolled": false
   },
   "outputs": [
    {
     "name": "stdout",
     "output_type": "stream",
     "text": [
      "53\n",
      "True\n"
     ]
    }
   ],
   "source": [
    "def IsPrime(n):\n",
    "    prime = True\n",
    "    sqrt = 1 + int(n ** (1/2))\n",
    "    for i in range(2, sqrt):\n",
    "        if n % i == 0:\n",
    "            return not prime\n",
    "    return prime\n",
    "print(IsPrime(int(input())))"
   ]
  },
  {
   "cell_type": "markdown",
   "id": "bb04ff17",
   "metadata": {},
   "source": [
    "Алгоритм:\n",
    "\n",
    "Для того, чтобы определить, является ли число $n$ простым, осуществляется перебор всех натуральных чисел от $2$ до $\\sqrt{n}$.  Почему до $\\sqrt{n}$ ? $\\newline$\n",
    "Потому что если число является составным, оно представимо как $n = a \\cdot b$. Тогда предположим, что одно из этих чисел больше корня из n:\n",
    "$\\space a \\ge \\sqrt{n} \\Rightarrow b \\le \\sqrt{n} $ .\n",
    "Таким образом, так как составное число $n$ представимо как произведение двух простых чисел $ a \\cdot b$, то имеет смысл проверять только до $\\sqrt{n}$, поскольку если одно число окажется больше корня из n, другое обязательно должно оказаться меньше"
   ]
  },
  {
   "cell_type": "markdown",
   "id": "b5ec4097",
   "metadata": {},
   "source": []
  },
  {
   "cell_type": "markdown",
   "id": "ee2a5bbd",
   "metadata": {},
   "source": [
    "Операция, которое определяется как повторяющееся возведение числа в степень себя определенное количество раз, называется тетрацией. Является четвертой из гиперопераций. \n",
    "$ \\newline ^b a = {\\displaystyle \\underbrace {a^{a^{\\cdots^{a}}}} _{\\displaystyle b}} $\n",
    "Тетрацию можно представить как башню возведений в степень: $ 2^{2^{2^2}} =\\space ^4 2.$\n",
    "Написать функцию tetration(a, b), которое возвращает a, тетрированное(возведенное в степень самого себя) b раз."
   ]
  },
  {
   "cell_type": "code",
   "execution_count": 42,
   "id": "88da3ce8",
   "metadata": {},
   "outputs": [
    {
     "data": {
      "text/plain": [
       "65536"
      ]
     },
     "execution_count": 42,
     "metadata": {},
     "output_type": "execute_result"
    }
   ],
   "source": [
    "def tetration(a, b):\n",
    "    return a ** tetration(a, b-1) if b else 1 \n",
    "tetration(2, 4)"
   ]
  },
  {
   "cell_type": "markdown",
   "id": "99314548",
   "metadata": {},
   "source": [
    "Написать рекурсивно функцию возведения в степень \n",
    "$ \\newline a^b = {\\displaystyle \\underbrace {a \\cdot a \\cdot \\cdots \\cdot  a \\cdot a} _{\\displaystyle b}}$\n"
   ]
  },
  {
   "cell_type": "code",
   "execution_count": 58,
   "id": "6bbb7fa8",
   "metadata": {},
   "outputs": [
    {
     "data": {
      "text/plain": [
       "1024"
      ]
     },
     "execution_count": 58,
     "metadata": {},
     "output_type": "execute_result"
    }
   ],
   "source": [
    "def Pow(a, b):\n",
    "    return a * Pow(a, b-1) if b else 1\n",
    "Pow(2, 10)"
   ]
  },
  {
   "cell_type": "markdown",
   "id": "0ad6ba24",
   "metadata": {},
   "source": [
    "Написать рекурсивно функцию умножения\n",
    "$\\newline a \\cdot b = {\\displaystyle \\underbrace {a+a+\\cdots +a+a} _{\\displaystyle b}}$"
   ]
  },
  {
   "cell_type": "code",
   "execution_count": 45,
   "id": "eef1b9a9",
   "metadata": {},
   "outputs": [
    {
     "data": {
      "text/plain": [
       "20"
      ]
     },
     "execution_count": 45,
     "metadata": {},
     "output_type": "execute_result"
    }
   ],
   "source": [
    "def mp(a, b):\n",
    "    return a + mp(a, b-1) if b else 0\n",
    "mp(2, 10)"
   ]
  },
  {
   "cell_type": "markdown",
   "id": "29060d84",
   "metadata": {},
   "source": [
    "Написать рекурсивно функцию сложения\n",
    "$\\newline a + b = {\\displaystyle a+\\underbrace {1+1+\\cdots +1+1} _{\\displaystyle b}}$"
   ]
  },
  {
   "cell_type": "code",
   "execution_count": 47,
   "id": "1ba6b47c",
   "metadata": {},
   "outputs": [
    {
     "data": {
      "text/plain": [
       "11"
      ]
     },
     "execution_count": 47,
     "metadata": {},
     "output_type": "execute_result"
    }
   ],
   "source": [
    "def Sum(a, b):\n",
    "    return 1 + Sum(a, b-1) if b else a\n",
    "Sum(5, 6)"
   ]
  },
  {
   "cell_type": "markdown",
   "id": "2e22f3a9",
   "metadata": {},
   "source": [
    "Написать рекурсивно 3 первые гипероперации (сложение, умножение, возведение в степень) друг через друга"
   ]
  },
  {
   "cell_type": "code",
   "execution_count": 62,
   "id": "b7b152c4",
   "metadata": {},
   "outputs": [
    {
     "data": {
      "text/plain": [
       "81"
      ]
     },
     "execution_count": 62,
     "metadata": {},
     "output_type": "execute_result"
    }
   ],
   "source": [
    "def Sum(a, b):\n",
    "    return 1 + Sum(a, b-1) if b else a\n",
    "def MP(a, b):\n",
    "    return Sum(a, MP(a, b-1)) if b else 0\n",
    "def Pow(a, b):\n",
    "    return MP(a, Pow(a, b-1)) if b else 1\n",
    "Pow(3, 4)"
   ]
  },
  {
   "cell_type": "code",
   "execution_count": null,
   "id": "50d7e726",
   "metadata": {},
   "outputs": [],
   "source": []
  },
  {
   "cell_type": "code",
   "execution_count": null,
   "id": "cc53cb6b",
   "metadata": {},
   "outputs": [],
   "source": []
  }
 ],
 "metadata": {
  "kernelspec": {
   "display_name": "Python 3",
   "language": "python",
   "name": "python3"
  },
  "language_info": {
   "codemirror_mode": {
    "name": "ipython",
    "version": 3
   },
   "file_extension": ".py",
   "mimetype": "text/x-python",
   "name": "python",
   "nbconvert_exporter": "python",
   "pygments_lexer": "ipython3",
   "version": "3.9.5"
  }
 },
 "nbformat": 4,
 "nbformat_minor": 5
}
