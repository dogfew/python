{
 "cells": [
  {
   "cell_type": "code",
   "execution_count": 91,
   "id": "77b735fc",
   "metadata": {},
   "outputs": [],
   "source": [
    "from sympy import * \n",
    "from sympy.abc import * \n",
    "init_printing()"
   ]
  },
  {
   "cell_type": "code",
   "execution_count": 92,
   "id": "62b133cd",
   "metadata": {},
   "outputs": [],
   "source": [
    "C_1, C_2, K_2, I_1, I_2, Y_1, Y_2, K_1 = symbols('C_1, C_2, K_2, I_1, I_2, Y_1, Y_2, K_1 ', positive=True)\n",
    "alpha, beta = symbols('alpha, beta', positive=True)\n",
    "eta = Symbol('eta', positive=True)"
   ]
  },
  {
   "cell_type": "markdown",
   "id": "8f2cb488",
   "metadata": {},
   "source": [
    "## Долговой навес и потолок долга"
   ]
  },
  {
   "cell_type": "markdown",
   "id": "e954e8b1",
   "metadata": {},
   "source": [
    "#### Выписать равенства\n",
    "\n",
    "\\begin{align*}\n",
    "D \\rightarrow \\infty \\quad \\text{унаследованный долг очень большой}\\\\\n",
    "U(C_1, C_2) = \\sqrt{C_1} + \\beta \\cdot \\sqrt{C_2} \\\\\n",
    "Y_1 \\rightarrow \\text{доход в первом периоде, заданный экзогенно} \\\\\n",
    "K_2 = I_1 \\\\\n",
    "Y_2 = K_2^{\\alpha} = I_1^{\\alpha} \\\\\n",
    "\\eta \\cdot  Y_2 \\rightarrow \\text{максимальная сумма выплат по долгу} \\quad \\eta < 1 \n",
    "\\end{align*}\t\n",
    "\\begin{align*}\n",
    "\\begin{cases}\n",
    "C_1 = Y_1 - I_1 \\\\\n",
    "C_2=  Y_2 \\cdot (1 - \\eta) = I_1^{\\alpha} (1 - \\eta) \n",
    "\\end{cases} \n",
    "\\end{align*}"
   ]
  },
  {
   "cell_type": "code",
   "execution_count": 93,
   "id": "46b006cc",
   "metadata": {},
   "outputs": [
    {
     "data": {
      "image/png": "[encoded data removed]",
      "text/latex": [
       "$\\displaystyle \\left\\{ C_{1} : - I_{1} + Y_{1}, \\  C_{2} : I_{1}^{\\alpha} \\left(1 - \\eta\\right)\\right\\}$"
      ],
      "text/plain": [
       "⎧                    α        ⎫\n",
       "⎨C₁: -I₁ + Y₁, C₂: I₁ ⋅(1 - η)⎬\n",
       "⎩                             ⎭"
      ]
     },
     "execution_count": 93,
     "metadata": {},
     "output_type": "execute_result"
    }
   ],
   "source": [
    "constraints = {\n",
    "    C_1: Y_1 - I_1,\n",
    "    C_2: I_1 ** alpha * (1 - eta)\n",
    "}\n",
    "\n",
    "helper = {\n",
    "    Y_1: C_1 + I_1,\n",
    "}\n",
    "constraints"
   ]
  },
  {
   "cell_type": "markdown",
   "id": "2e52b465",
   "metadata": {},
   "source": [
    "#### Пункт (a)\n",
    "\n"
   ]
  },
  {
   "cell_type": "code",
   "execution_count": 94,
   "id": "eb35b35a",
   "metadata": {},
   "outputs": [
    {
     "data": {
      "image/png": "[encoded data removed]",
      "text/latex": [
       "$\\displaystyle U = \\sqrt{C_{1}} + \\sqrt{C_{2}} \\beta$"
      ],
      "text/plain": [
       "      ____     ____  \n",
       "U = ╲╱ C₁  + ╲╱ C₂ ⋅β"
      ]
     },
     "execution_count": 94,
     "metadata": {},
     "output_type": "execute_result"
    }
   ],
   "source": [
    "U = sqrt(C_1) + beta * sqrt(C_2)\n",
    "Eq(Symbol('U'), U)"
   ]
  },
  {
   "cell_type": "code",
   "execution_count": 95,
   "id": "ff0218d6",
   "metadata": {},
   "outputs": [
    {
     "data": {
      "image/png": "[encoded data removed]",
      "text/latex": [
       "$\\displaystyle U = I_{1}^{\\frac{\\alpha}{2}} \\beta \\sqrt{1 - \\eta} + \\sqrt{- I_{1} + Y_{1}}$"
      ],
      "text/plain": [
       "      α                           \n",
       "      ─                           \n",
       "      2     _______     __________\n",
       "U = I₁ ⋅β⋅╲╱ 1 - η  + ╲╱ -I₁ + Y₁ "
      ]
     },
     "execution_count": 95,
     "metadata": {},
     "output_type": "execute_result"
    }
   ],
   "source": [
    "U = U.subs(constraints)\n",
    "Eq(Symbol('U'), U)"
   ]
  },
  {
   "cell_type": "code",
   "execution_count": 96,
   "id": "03540627",
   "metadata": {},
   "outputs": [
    {
     "data": {
      "image/png": "[encoded data removed]",
      "text/latex": [
       "$\\displaystyle \\frac{d}{d I_{1}} U = - \\frac{1}{2 \\sqrt{- I_{1} + Y_{1}}} + \\frac{I_{1}^{\\frac{\\alpha}{2}} \\alpha \\beta \\sqrt{1 - \\eta}}{2 I_{1}}$"
      ],
      "text/plain": [
       "                              α              \n",
       "                              ─              \n",
       "                              2       _______\n",
       " d               1          I₁ ⋅α⋅β⋅╲╱ 1 - η \n",
       "───(U) = - ────────────── + ─────────────────\n",
       "dI₁            __________          2⋅I₁      \n",
       "           2⋅╲╱ -I₁ + Y₁                     "
      ]
     },
     "execution_count": 96,
     "metadata": {},
     "output_type": "execute_result"
    }
   ],
   "source": [
    "Eq(Derivative(Symbol('U'), I_1), diff(U, I_1))"
   ]
  },
  {
   "cell_type": "code",
   "execution_count": 97,
   "id": "b8d3ebc6",
   "metadata": {},
   "outputs": [
    {
     "data": {
      "image/png": "[encoded data removed]",
      "text/latex": [
       "$\\displaystyle I^{*}_{1} = \\left(C_{1} \\alpha^{2} \\beta^{2} \\cdot \\left(1 - \\eta\\right)\\right)^{- \\frac{1}{\\alpha - 2}}$"
      ],
      "text/plain": [
       "                            -1  \n",
       "                           ─────\n",
       "                           α - 2\n",
       "         ⎛    2  2        ⎞     \n",
       "I_1__* = ⎝C₁⋅α ⋅β ⋅(1 - η)⎠     "
      ]
     },
     "execution_count": 97,
     "metadata": {},
     "output_type": "execute_result"
    }
   ],
   "source": [
    "I_opt = solve(diff(U, I_1).subs(helper), I_1)[0]\n",
    "Eq(Symbol(\"I_1^*\"), I_opt)"
   ]
  },
  {
   "cell_type": "code",
   "execution_count": 98,
   "id": "fc88413e",
   "metadata": {},
   "outputs": [
    {
     "data": {
      "image/png": "[encoded data removed]",
      "text/latex": [
       "$\\displaystyle R = \\eta \\left(\\left(C_{1} \\alpha^{2} \\beta^{2} \\cdot \\left(1 - \\eta\\right)\\right)^{- \\frac{1}{\\alpha - 2}}\\right)^{\\alpha}$"
      ],
      "text/plain": [
       "                               α\n",
       "      ⎛                   -1  ⎞ \n",
       "      ⎜                  ─────⎟ \n",
       "      ⎜                  α - 2⎟ \n",
       "      ⎜⎛    2  2        ⎞     ⎟ \n",
       "R = η⋅⎝⎝C₁⋅α ⋅β ⋅(1 - η)⎠     ⎠ "
      ]
     },
     "execution_count": 98,
     "metadata": {},
     "output_type": "execute_result"
    }
   ],
   "source": [
    "Eq(R, eta * I_opt ** alpha)"
   ]
  },
  {
   "cell_type": "code",
   "execution_count": 99,
   "id": "dc056003",
   "metadata": {},
   "outputs": [
    {
     "data": {
      "image/png": "[encoded data removed]",
      "text/latex": [
       "$\\displaystyle \\hat{C_1} = - \\frac{I_{1}^{2 - \\alpha}}{\\alpha^{2} \\beta^{2} \\left(\\eta - 1\\right)}$"
      ],
      "text/plain": [
       "                 2 - α   \n",
       "              -I₁        \n",
       "\\hat{C_1} = ─────────────\n",
       "             2  2        \n",
       "            α ⋅β ⋅(η - 1)"
      ]
     },
     "execution_count": 99,
     "metadata": {},
     "output_type": "execute_result"
    }
   ],
   "source": [
    "Eq(Symbol(\"\\hat{C_1}\"), solve(I_opt - I_1, C_1)[0])"
   ]
  },
  {
   "cell_type": "markdown",
   "id": "10c4ef6b",
   "metadata": {},
   "source": [
    "#### Пункт (b)\n",
    "\n",
    "Теперь мы определяем как менять именно потребление в первом периоде. \n"
   ]
  },
  {
   "cell_type": "code",
   "execution_count": 100,
   "id": "8163804b",
   "metadata": {},
   "outputs": [
    {
     "data": {
      "image/png": "[encoded data removed]",
      "text/latex": [
       "$\\displaystyle U = \\sqrt{C_{1}} + \\beta \\sqrt{1 - \\eta} \\left(- C_{1} + Y_{1}\\right)^{\\frac{\\alpha}{2}}$"
      ],
      "text/plain": [
       "                                   α\n",
       "                                   ─\n",
       "      ____       _______           2\n",
       "U = ╲╱ C₁  + β⋅╲╱ 1 - η ⋅(-C₁ + Y₁) "
      ]
     },
     "execution_count": 100,
     "metadata": {},
     "output_type": "execute_result"
    }
   ],
   "source": [
    "U = sqrt(C_1) + beta * sqrt(C_2)\n",
    "helper = {\n",
    "    I_1: Y_1 - C_1,\n",
    "    Y_1: C_1 + I_1\n",
    "}\n",
    "U = U.subs(C_2, constraints.get(C_2)).subs(I_1, helper.get(I_1))\n",
    "Eq(Symbol('U'), U)"
   ]
  },
  {
   "cell_type": "code",
   "execution_count": 101,
   "id": "25e60cc9",
   "metadata": {},
   "outputs": [
    {
     "data": {
      "image/png": "[encoded data removed]",
      "text/latex": [
       "$\\displaystyle \\frac{d}{d C_{1}} U = - \\frac{I_{1}^{\\frac{\\alpha}{2}} \\alpha \\beta \\sqrt{1 - \\eta}}{2 I_{1}} + \\frac{1}{2 \\sqrt{C_{1}}}$"
      ],
      "text/plain": [
       "             α                         \n",
       "             ─                         \n",
       "             2       _______           \n",
       " d         I₁ ⋅α⋅β⋅╲╱ 1 - η       1    \n",
       "───(U) = - ───────────────── + ────────\n",
       "dC₁               2⋅I₁             ____\n",
       "                               2⋅╲╱ C₁ "
      ]
     },
     "execution_count": 101,
     "metadata": {},
     "output_type": "execute_result"
    }
   ],
   "source": [
    "Eq(\n",
    "    Derivative(Symbol('U'), C_1), \n",
    "    diff(U, C_1).subs(helper)\n",
    ")"
   ]
  },
  {
   "cell_type": "code",
   "execution_count": 102,
   "id": "6a2806b4",
   "metadata": {},
   "outputs": [
    {
     "data": {
      "image/png": "[encoded data removed]",
      "text/latex": [
       "$\\displaystyle \\hat{C_1} = - \\frac{I_{1}^{2 - \\alpha}}{\\alpha^{2} \\beta^{2} \\left(\\eta - 1\\right)}$"
      ],
      "text/plain": [
       "                 2 - α   \n",
       "              -I₁        \n",
       "\\hat{C_1} = ─────────────\n",
       "             2  2        \n",
       "            α ⋅β ⋅(η - 1)"
      ]
     },
     "execution_count": 102,
     "metadata": {},
     "output_type": "execute_result"
    }
   ],
   "source": [
    "C_1_opt = solve(\n",
    "    diff(U, C_1).subs(helper),\n",
    "    C_1\n",
    ")[0]\n",
    "Eq(Symbol(\"\\hat{C_1}\"), C_1_opt)"
   ]
  },
  {
   "cell_type": "markdown",
   "id": "f216f660",
   "metadata": {},
   "source": [
    "## Решение проблемы динамической несогласованности \n",
    "\n",
    "\\begin{align}\n",
    "y_t = \\bar{y} + b \\cdot ( \\pi_t - \\pi_t^e) \\quad b > 0 \\\\\n",
    "W_{pol} = \\sum_{t=0}^\\infty \\beta^t (y_t - \\frac{1}{2} \\cdot a \\cdot pi_t^2) \\quad a > 0 \\quad |\\beta| < 1 \\\\\n",
    "\\pi_{t+1}^e = \\begin{cases}\n",
    "\\hat \\pi & \\pi_t = \\hat \\pi \\\\\n",
    "\\frac{b}{a} & \\pi_t \\ne \\hat \\pi \\\\\n",
    "\\end{cases}\n",
    "\\end{align}"
   ]
  },
  {
   "cell_type": "markdown",
   "id": "34b25cb4",
   "metadata": {},
   "source": [
    "### Пункт (а)"
   ]
  },
  {
   "cell_type": "code",
   "execution_count": 103,
   "id": "ce2fafc6",
   "metadata": {},
   "outputs": [],
   "source": [
    "yhat = Symbol('\\hat y')\n",
    "y_t = Symbol('y_t')\n",
    "pi_t = Symbol('pi_t')\n",
    "pi_t_e = Symbol('pi_t_e')\n",
    "alpha = Symbol('alpha', positive=True)\n",
    "constraints = {\n",
    "    y_t: yhat + b * (pi_t - pi_t_e),\n",
    "    pi_t_e: b / a \n",
    "}"
   ]
  },
  {
   "cell_type": "code",
   "execution_count": 104,
   "id": "4c0abfd2",
   "metadata": {},
   "outputs": [
    {
     "data": {
      "image/png": "[encoded data removed]",
      "text/latex": [
       "$\\displaystyle W_{pol}^t = \\beta^{t} \\left(- 0.5 \\alpha \\pi_{t}^{2} + y_{t}\\right)$"
      ],
      "text/plain": [
       "              t ⎛          2     ⎞\n",
       "W_{pol}__t = β ⋅⎝- 0.5⋅α⋅πₜ  + yₜ⎠"
      ]
     },
     "execution_count": 104,
     "metadata": {},
     "output_type": "execute_result"
    }
   ],
   "source": [
    "W_pol_t = beta ** t * (y_t - 1 / 2 * alpha * pi_t ** 2)\n",
    "Eq(Symbol(\"W_{pol}^t\"), W_pol_t)"
   ]
  },
  {
   "cell_type": "code",
   "execution_count": 105,
   "id": "3dd2f67f",
   "metadata": {},
   "outputs": [
    {
     "data": {
      "image/png": "[encoded data removed]",
      "text/latex": [
       "$\\displaystyle W_{pol} = \\sum_{t=0}^{\\infty} \\beta^{t} \\left(- 0.5 \\alpha \\pi_{t}^{2} + y_{t}\\right)$"
      ],
      "text/plain": [
       "            ∞                        \n",
       "           ___                       \n",
       "           ╲                         \n",
       "            ╲    t ⎛          2     ⎞\n",
       "W_{pol} =   ╱   β ⋅⎝- 0.5⋅α⋅πₜ  + yₜ⎠\n",
       "           ╱                         \n",
       "           ‾‾‾                       \n",
       "          t = 0                      "
      ]
     },
     "execution_count": 105,
     "metadata": {},
     "output_type": "execute_result"
    }
   ],
   "source": [
    "total = Sum(W_pol_t, (t, 0, oo))\n",
    "Eq(Symbol(\"W_{pol}\"), total)"
   ]
  },
  {
   "cell_type": "code",
   "execution_count": 106,
   "id": "fcd8bb25",
   "metadata": {},
   "outputs": [
    {
     "data": {
      "image/png": "[encoded data removed]",
      "text/latex": [
       "$\\displaystyle \\frac{d}{d \\pi_{t}} W_{pol} = \\beta^{t} \\left(- 1.0 \\alpha \\pi_{t} + b\\right)$"
      ],
      "text/plain": [
       " d              t            \n",
       "───(W_{pol}) = β ⋅(-α⋅πₜ + b)\n",
       "dπₜ                          "
      ]
     },
     "execution_count": 106,
     "metadata": {},
     "output_type": "execute_result"
    }
   ],
   "source": [
    "Eq(\n",
    "    Derivative(Symbol(\"W_{pol}\"), pi_t), \n",
    "    diff(total.subs(constraints), pi_t).args[0]\n",
    ")"
   ]
  },
  {
   "cell_type": "code",
   "execution_count": 107,
   "id": "0efa2ca8",
   "metadata": {},
   "outputs": [
    {
     "data": {
      "image/png": "[encoded data removed]",
      "text/latex": [
       "$\\displaystyle \\pi^{e} = \\frac{b}{\\alpha}$"
      ],
      "text/plain": [
       "       b\n",
       "π__e = ─\n",
       "       α"
      ]
     },
     "execution_count": 107,
     "metadata": {},
     "output_type": "execute_result"
    }
   ],
   "source": [
    "pi_opt = solve(diff(total.subs(constraints), pi_t).args[0], pi_t)[0]\n",
    "Eq(Symbol(\"pi^e\"), pi_opt)"
   ]
  },
  {
   "cell_type": "code",
   "execution_count": 108,
   "id": "1b5b3556",
   "metadata": {},
   "outputs": [
    {
     "data": {
      "image/png": "[encoded data removed]",
      "text/latex": [
       "$\\displaystyle W_{pol} = \\sum_{t=0}^{\\infty} \\beta^{t} \\left(y_{t} - \\frac{0.5 b^{2}}{\\alpha}\\right)$"
      ],
      "text/plain": [
       "            ∞                   \n",
       "           ____                 \n",
       "           ╲                    \n",
       "            ╲      ⎛          2⎞\n",
       "             ╲   t ⎜     0.5⋅b ⎟\n",
       "W_{pol} =    ╱  β ⋅⎜yₜ - ──────⎟\n",
       "            ╱      ⎝       α   ⎠\n",
       "           ╱                    \n",
       "           ‾‾‾‾                 \n",
       "          t = 0                 "
      ]
     },
     "execution_count": 108,
     "metadata": {},
     "output_type": "execute_result"
    }
   ],
   "source": [
    "Eq(Symbol(\"W_{pol}\"), total.subs(pi_t, pi_opt))"
   ]
  },
  {
   "cell_type": "code",
   "execution_count": 109,
   "id": "c218a450",
   "metadata": {},
   "outputs": [
    {
     "data": {
      "image/png": "[encoded data removed]",
      "text/latex": [
       "$\\displaystyle W_{pol} = \\begin{cases} \\frac{- \\alpha y_{t} + 0.5 b^{2}}{\\alpha \\left(\\beta - 1\\right)} & \\text{for}\\: \\beta < 1 \\\\\\left(y_{t} - \\frac{0.5 b^{2}}{\\alpha}\\right) \\sum_{t=0}^{\\infty} \\beta^{t} & \\text{otherwise} \\end{cases}$"
      ],
      "text/plain": [
       "          ⎧                 2               \n",
       "          ⎪    -α⋅yₜ + 0.5⋅b                \n",
       "          ⎪    ──────────────      for β < 1\n",
       "          ⎪      α⋅(β - 1)                  \n",
       "          ⎪                                 \n",
       "          ⎪                ∞                \n",
       "W_{pol} = ⎨               ___               \n",
       "          ⎪⎛          2⎞  ╲                 \n",
       "          ⎪⎜     0.5⋅b ⎟   ╲    t           \n",
       "          ⎪⎜yₜ - ──────⎟⋅  ╱   β   otherwise\n",
       "          ⎪⎝       α   ⎠  ╱                 \n",
       "          ⎪               ‾‾‾               \n",
       "          ⎩              t = 0              "
      ]
     },
     "execution_count": 109,
     "metadata": {},
     "output_type": "execute_result"
    }
   ],
   "source": [
    "# извлечение общего решения для любых значений бета \n",
    "expr = total.subs(pi_t, pi_opt).doit().simplify()\n",
    "Eq(Symbol(\"W_{pol}\"), expr)"
   ]
  },
  {
   "cell_type": "code",
   "execution_count": 110,
   "id": "589dc8a1",
   "metadata": {},
   "outputs": [
    {
     "data": {
      "image/png": "[encoded data removed]",
      "text/latex": [
       "$\\displaystyle W_{pol} = \\frac{- \\alpha y_{t} + 0.5 b^{2}}{\\alpha \\left(\\beta - 1\\right)}$"
      ],
      "text/plain": [
       "                    2\n",
       "       -α⋅yₜ + 0.5⋅b \n",
       "Wₚₒₗ = ──────────────\n",
       "         α⋅(β - 1)   "
      ]
     },
     "execution_count": 110,
     "metadata": {},
     "output_type": "execute_result"
    }
   ],
   "source": [
    "# взять бету в нужном интервале \n",
    "Eq(Symbol(\"W_pol\"), expr.args[0].args[0])"
   ]
  },
  {
   "cell_type": "code",
   "execution_count": 111,
   "id": "d383104a",
   "metadata": {},
   "outputs": [
    {
     "data": {
      "image/png": "[encoded data removed]",
      "text/latex": [
       "$\\displaystyle W_{pol} = \\frac{- \\alpha \\left(\\hat y + b \\left(\\pi_{t} - \\pi_{t e}\\right)\\right) + 0.5 b^{2}}{\\alpha \\left(\\beta - 1\\right)}$"
      ],
      "text/plain": [
       "                                          2\n",
       "       -α⋅(\\hat y + b⋅(πₜ - πₜ ₑ)) + 0.5⋅b \n",
       "Wₚₒₗ = ────────────────────────────────────\n",
       "                    α⋅(β - 1)              "
      ]
     },
     "execution_count": 111,
     "metadata": {},
     "output_type": "execute_result"
    }
   ],
   "source": [
    "Eq(\n",
    "    Symbol(\"W_pol\"), \n",
    "    expr.args[0].args[0].subs(\n",
    "        y_t, constraints.get(y_t)\n",
    "    ).simplify()\n",
    ")"
   ]
  },
  {
   "cell_type": "markdown",
   "id": "a99ddb67",
   "metadata": {},
   "source": [
    "### Пункт (b)"
   ]
  },
  {
   "cell_type": "code",
   "execution_count": 112,
   "id": "444f9dae",
   "metadata": {},
   "outputs": [
    {
     "data": {
      "image/png": "[encoded data removed]",
      "text/latex": [
       "$\\displaystyle \\pi^{e}_{t} = \\hat{\\pi}$"
      ],
      "text/plain": [
       "π_t__e = \\hat{\\pi}"
      ]
     },
     "execution_count": 112,
     "metadata": {},
     "output_type": "execute_result"
    }
   ],
   "source": [
    "constraints = {\n",
    "    y_t: yhat + b * (pi_t - pi_t_e),\n",
    "    pi_t_e: Symbol(\"\\hat{\\pi}\"),\n",
    "    pi_t: Symbol(\"\\hat{\\pi}\")\n",
    "}\n",
    "Eq(Symbol(\"pi^e_t\"), constraints.get(pi_t_e))"
   ]
  },
  {
   "cell_type": "code",
   "execution_count": 113,
   "id": "06d8d1e9",
   "metadata": {},
   "outputs": [
    {
     "data": {
      "image/png": "[encoded data removed]",
      "text/latex": [
       "$\\displaystyle W_{pol} = \\begin{cases} \\frac{- \\hat y + 0.5 \\hat{\\pi}^{2} \\alpha}{\\beta - 1} & \\text{for}\\: \\beta < 1 \\\\\\left(\\hat y - 0.5 \\hat{\\pi}^{2} \\alpha\\right) \\sum_{t=0}^{\\infty} \\beta^{t} & \\text{otherwise} \\end{cases}$"
      ],
      "text/plain": [
       "          ⎧                            2                  \n",
       "          ⎪     -\\hat y + 0.5⋅\\hat{\\pi} ⋅α                \n",
       "          ⎪     ──────────────────────────       for β < 1\n",
       "          ⎪               β - 1                           \n",
       "          ⎪                                               \n",
       "          ⎪                              ∞                \n",
       "W_{pol} = ⎨                             ___               \n",
       "          ⎪                             ╲                 \n",
       "          ⎪⎛                      2  ⎞   ╲    t           \n",
       "          ⎪⎝\\hat y - 0.5⋅\\hat{\\pi} ⋅α⎠⋅  ╱   β   otherwise\n",
       "          ⎪                             ╱                 \n",
       "          ⎪                             ‾‾‾               \n",
       "          ⎩                            t = 0              "
      ]
     },
     "execution_count": 113,
     "metadata": {},
     "output_type": "execute_result"
    }
   ],
   "source": [
    "new_opt = total.doit().simplify().subs(constraints).subs(constraints)\n",
    "Eq(Symbol(\"W_{pol}\"),\n",
    "    new_opt\n",
    ")"
   ]
  },
  {
   "cell_type": "code",
   "execution_count": 114,
   "id": "01e3382f",
   "metadata": {},
   "outputs": [
    {
     "data": {
      "image/png": "[encoded data removed]",
      "text/latex": [
       "$\\displaystyle W_{pol} = \\frac{- \\hat y + 0.5 \\hat{\\pi}^{2} \\alpha}{\\beta - 1}$"
      ],
      "text/plain": [
       "                                 2  \n",
       "          -\\hat y + 0.5⋅\\hat{\\pi} ⋅α\n",
       "W_{pol} = ──────────────────────────\n",
       "                    β - 1           "
      ]
     },
     "execution_count": 114,
     "metadata": {},
     "output_type": "execute_result"
    }
   ],
   "source": [
    "Eq(Symbol(\"W_{pol}\"),\n",
    "   new_opt.args[0].args[0]\n",
    ")"
   ]
  },
  {
   "cell_type": "markdown",
   "id": "4a2d3bfd",
   "metadata": {},
   "source": [
    "## Неприятная монетаристская арифметика (реально неприятная)"
   ]
  },
  {
   "cell_type": "code",
   "execution_count": 209,
   "id": "bf3dab39",
   "metadata": {},
   "outputs": [
    {
     "data": {
      "image/png": "[encoded data removed]",
      "text/latex": [
       "$\\displaystyle B_{T} + M_{T} - M_{T-1} + P_{T} t_{T} = B_{T-1} \\left(i_{T-1} + 1\\right) + P_{T} g_{T}$"
      ],
      "text/plain": [
       "B_T + M_T - M_{T-1} + P_T⋅t_T = B_{T-1}⋅(i_{T-1} + 1) + P_T⋅g_T"
      ]
     },
     "execution_count": 209,
     "metadata": {},
     "output_type": "execute_result"
    }
   ],
   "source": [
    "M_T, M_prev, B_T, B_prev, P_T, t_T, i_prev, g_T, P_prev = symbols(\n",
    "'M_T, M_{T-1}, B_T, B_{T-1}, P_T, t_T, i_{T-1}, g_T, P_{T-1}'\n",
    ")\n",
    "M_t, B_t, P_t, t_t, g_t = M_T, B_T, P_T, t_T, g_T\n",
    "left_bc = M_t - M_prev + B_t + P_t * t_t\n",
    "right_bc = (1 + i_prev) * B_prev + P_t * g_t\n",
    "Eq(left_bc, right_bc)"
   ]
  },
  {
   "cell_type": "code",
   "execution_count": 210,
   "id": "2f645196",
   "metadata": {},
   "outputs": [],
   "source": [
    "values = {\n",
    "    i_prev:0.1,\n",
    "    B_prev:10, \n",
    "    P_prev:1,\n",
    "    M_prev:10.5,\n",
    "    B_T:0\n",
    "}"
   ]
  },
  {
   "cell_type": "markdown",
   "id": "d3c9910a",
   "metadata": {},
   "source": [
    "#### Неприятный пункт (а). А в питоне очень даже приятный.\n",
    "\n",
    "<ul>\n",
    "<li> Задачи монетарных властей\n",
    "    \n",
    "Собственно, выбрать инфляцию, формула которой такая:\n",
    "\\begin{align}\n",
    "\\pi_T = \\frac{P_T - P_{t-1}}{P_{t-1}}\n",
    "\\end{align}\n",
    "\n",
    "<li> Задачи фискальных властей\n",
    "    \n",
    "Собственно, обеспечить уровень профицита/дефицита бюджета на каком-то уровне:\n",
    "    \n",
    "\\begin{align}\n",
    "t_T - g_T = \\text{target}\n",
    "\\end{align}\n",
    "    \n",
    "<li> Наша задача\n",
    "    \n",
    "Найти реальный доход от сеньоража\n",
    "    \n",
    "\\begin{align}\n",
    "S = \\frac{M_T - M_{T-1}}{P_T}\n",
    "\\end{align}"
   ]
  },
  {
   "cell_type": "code",
   "execution_count": 211,
   "id": "b9c71a7d",
   "metadata": {},
   "outputs": [],
   "source": [
    "pi_T = (P_T - P_prev) / P_prev \n",
    "budget_surplus = t_T - g_T\n",
    "target_pi_T = Symbol('\\hat{\\pi_T}')\n",
    "target_budget = Symbol('\\hat{budget}')\n",
    "\n",
    "base_equations = Matrix([\n",
    "    left_bc - right_bc, \n",
    "    pi_T - target_pi_T, \n",
    "    budget_surplus - target_budget, \n",
    "    S - (M_T - M_prev) / P_T\n",
    "])"
   ]
  },
  {
   "cell_type": "code",
   "execution_count": 214,
   "id": "19084577",
   "metadata": {},
   "outputs": [
    {
     "data": {
      "image/png": "[encoded data removed]",
      "text/latex": [
       "$\\displaystyle \\left[\\begin{matrix}B_{T} - B_{T-1} \\left(i_{T-1} + 1\\right) + M_{T} - M_{T-1} - P_{T} g_{T} + P_{T} t_{T}\\\\- \\hat{\\pi_T} + \\frac{P_{T} - P_{T-1}}{P_{T-1}}\\\\- \\hat{budget} - g_{T} + t_{T}\\\\S - \\frac{M_{T} - M_{T-1}}{P_{T}}\\end{matrix}\\right] = \\left[\\begin{matrix}0\\\\0\\\\0\\\\0\\end{matrix}\\right]$"
      ],
      "text/plain": [
       "⎡B_T - B_{T-1}⋅(i_{T-1} + 1) + M_T - M_{T-1} - P_T⋅g_T + P_T⋅t_T⎤      \n",
       "⎢                                                               ⎥      \n",
       "⎢                                P_T - P_{T-1}                  ⎥   ⎡0⎤\n",
       "⎢                 -\\hat{\\pi_T} + ─────────────                  ⎥   ⎢ ⎥\n",
       "⎢                                   P_{T-1}                     ⎥   ⎢0⎥\n",
       "⎢                                                               ⎥ = ⎢ ⎥\n",
       "⎢                   -\\hat{budget} - g_T + t_T                   ⎥   ⎢0⎥\n",
       "⎢                                                               ⎥   ⎢ ⎥\n",
       "⎢                           M_T - M_{T-1}                       ⎥   ⎣0⎦\n",
       "⎢                       S - ─────────────                       ⎥      \n",
       "⎣                                P_T                            ⎦      "
      ]
     },
     "execution_count": 214,
     "metadata": {},
     "output_type": "execute_result"
    }
   ],
   "source": [
    "targets = {\n",
    "    target_pi_T: 0.05, \n",
    "    target_budget: 8\n",
    "}\n",
    "equations = base_equations.copy()\n",
    "Eq(base_equations, Matrix([0, 0, 0, 0]))"
   ]
  },
  {
   "cell_type": "code",
   "execution_count": 215,
   "id": "74783d66",
   "metadata": {},
   "outputs": [
    {
     "data": {
      "image/png": "[encoded data removed]",
      "text/latex": [
       "$\\displaystyle \\left\\{ M_{T} : 13.1, \\  P_{T} : 1.05, \\  S : 2.47619047619048, \\  g_{T} : t_{T} - 8.0\\right\\}$"
      ],
      "text/plain": [
       "{M_T: 13.1, P_T: 1.05, S: 2.47619047619048, g_T: t_T - 8.0}"
      ]
     },
     "execution_count": 215,
     "metadata": {},
     "output_type": "execute_result"
    }
   ],
   "source": [
    "solution = solve(\n",
    "    equations.subs(values).subs(targets)\n",
    ")[0]\n",
    "solution"
   ]
  },
  {
   "cell_type": "code",
   "execution_count": 216,
   "id": "488820b1",
   "metadata": {},
   "outputs": [
    {
     "data": {
      "image/png": "[encoded data removed]",
      "text/latex": [
       "$\\displaystyle S = 2.47619047619048$"
      ],
      "text/plain": [
       "S = 2.47619047619048"
      ]
     },
     "execution_count": 216,
     "metadata": {},
     "output_type": "execute_result"
    }
   ],
   "source": [
    "Eq(S, solution.get(S))"
   ]
  },
  {
   "cell_type": "markdown",
   "id": "4203a76b",
   "metadata": {},
   "source": [
    "### Неприятный пункт (б)\n",
    "\n",
    "Теперь и далее.\n",
    "\\begin{align}\n",
    "M_T = M_{T-1}\n",
    "\\end{align}\n",
    "\n",
    "Это наше новое уравнение, которое мы запишем в систему."
   ]
  },
  {
   "cell_type": "code",
   "execution_count": 219,
   "id": "b66bef0f",
   "metadata": {},
   "outputs": [
    {
     "data": {
      "image/png": "[encoded data removed]",
      "text/latex": [
       "$\\displaystyle \\left[\\begin{matrix}B_{T} - B_{T-1} \\left(i_{T-1} + 1\\right) + M_{T} - M_{T-1} - P_{T} g_{T} + P_{T} t_{T}\\\\- \\hat{\\pi_T} + \\frac{P_{T} - P_{T-1}}{P_{T-1}}\\\\- \\hat{budget} - g_{T} + t_{T}\\\\S - \\frac{M_{T} - M_{T-1}}{P_{T}}\\\\M_{T} - M_{T-1}\\end{matrix}\\right] = \\left[\\begin{matrix}0\\\\0\\\\0\\\\0\\\\0\\end{matrix}\\right]$"
      ],
      "text/plain": [
       "⎡B_T - B_{T-1}⋅(i_{T-1} + 1) + M_T - M_{T-1} - P_T⋅g_T + P_T⋅t_T⎤      \n",
       "⎢                                                               ⎥      \n",
       "⎢                                P_T - P_{T-1}                  ⎥   ⎡0⎤\n",
       "⎢                 -\\hat{\\pi_T} + ─────────────                  ⎥   ⎢ ⎥\n",
       "⎢                                   P_{T-1}                     ⎥   ⎢0⎥\n",
       "⎢                                                               ⎥   ⎢ ⎥\n",
       "⎢                   -\\hat{budget} - g_T + t_T                   ⎥ = ⎢0⎥\n",
       "⎢                                                               ⎥   ⎢ ⎥\n",
       "⎢                           M_T - M_{T-1}                       ⎥   ⎢0⎥\n",
       "⎢                       S - ─────────────                       ⎥   ⎢ ⎥\n",
       "⎢                                P_T                            ⎥   ⎣0⎦\n",
       "⎢                                                               ⎥      \n",
       "⎣                         M_T - M_{T-1}                         ⎦      "
      ]
     },
     "execution_count": 219,
     "metadata": {},
     "output_type": "execute_result"
    }
   ],
   "source": [
    "targets = {\n",
    "    target_pi_T: 0.05, \n",
    "}\n",
    "\n",
    "equations = Matrix.vstack(\n",
    "    base_equations, \n",
    "    Matrix([M_T - M_prev])                     )\n",
    "\n",
    "Eq(equations, Matrix([0, 0, 0, 0, 0]))"
   ]
  },
  {
   "cell_type": "code",
   "execution_count": 220,
   "id": "5ac1be5e",
   "metadata": {},
   "outputs": [
    {
     "data": {
      "image/png": "[encoded data removed]",
      "text/latex": [
       "$\\displaystyle \\left\\{ M_{T} : 10.5, \\  P_{T} : 1.05, \\  S : 0.0, \\  \\hat{budget} : 10.4761904761905, \\  g_{T} : 1.0 t_{T} - 10.4761904761905\\right\\}$"
      ],
      "text/plain": [
       "{M_T: 10.5, P_T: 1.05, S: 0.0, \\hat{budget}: 10.4761904761905, g_T: 1.0⋅t_T - 10.4761904761905}"
      ]
     },
     "execution_count": 220,
     "metadata": {},
     "output_type": "execute_result"
    }
   ],
   "source": [
    "solution = solve(\n",
    "    equations.subs(values).subs(targets),\n",
    ")[0]\n",
    "solution"
   ]
  },
  {
   "cell_type": "code",
   "execution_count": 221,
   "id": "da17cd0d",
   "metadata": {},
   "outputs": [
    {
     "data": {
      "image/png": "[encoded data removed]",
      "text/latex": [
       "$\\displaystyle \\hat{budget} = 10.4761904761905$"
      ],
      "text/plain": [
       "\\hat{budget} = 10.4761904761905"
      ]
     },
     "execution_count": 221,
     "metadata": {},
     "output_type": "execute_result"
    }
   ],
   "source": [
    "Eq(target_budget, solution.get(target_budget))"
   ]
  },
  {
   "cell_type": "markdown",
   "id": "df4bec46",
   "metadata": {},
   "source": [
    "### Неприятный пункт C\n",
    "\n",
    "Монетарные власти перестают таргетить инфляцию, но поддерживают денежную массу на постоянном уровне"
   ]
  },
  {
   "cell_type": "code",
   "execution_count": 223,
   "id": "af67a189",
   "metadata": {},
   "outputs": [
    {
     "data": {
      "image/png": "[encoded data removed]",
      "text/latex": [
       "$\\displaystyle \\left[\\begin{matrix}B_{T} - B_{T-1} \\left(i_{T-1} + 1\\right) + M_{T} - M_{T-1} - P_{T} g_{T} + P_{T} t_{T}\\\\- \\hat{\\pi_T} + \\frac{P_{T} - P_{T-1}}{P_{T-1}}\\\\- \\hat{budget} - g_{T} + t_{T}\\\\S - \\frac{M_{T} - M_{T-1}}{P_{T}}\\\\M_{T} - M_{T-1}\\end{matrix}\\right] = \\left[\\begin{matrix}0\\\\0\\\\0\\\\0\\\\0\\end{matrix}\\right]$"
      ],
      "text/plain": [
       "⎡B_T - B_{T-1}⋅(i_{T-1} + 1) + M_T - M_{T-1} - P_T⋅g_T + P_T⋅t_T⎤      \n",
       "⎢                                                               ⎥      \n",
       "⎢                                P_T - P_{T-1}                  ⎥   ⎡0⎤\n",
       "⎢                 -\\hat{\\pi_T} + ─────────────                  ⎥   ⎢ ⎥\n",
       "⎢                                   P_{T-1}                     ⎥   ⎢0⎥\n",
       "⎢                                                               ⎥   ⎢ ⎥\n",
       "⎢                   -\\hat{budget} - g_T + t_T                   ⎥ = ⎢0⎥\n",
       "⎢                                                               ⎥   ⎢ ⎥\n",
       "⎢                           M_T - M_{T-1}                       ⎥   ⎢0⎥\n",
       "⎢                       S - ─────────────                       ⎥   ⎢ ⎥\n",
       "⎢                                P_T                            ⎥   ⎣0⎦\n",
       "⎢                                                               ⎥      \n",
       "⎣                         M_T - M_{T-1}                         ⎦      "
      ]
     },
     "execution_count": 223,
     "metadata": {},
     "output_type": "execute_result"
    }
   ],
   "source": [
    "targets = {\n",
    "    target_budget: 8\n",
    "}\n",
    "\n",
    "Eq(equations, Matrix([0, 0, 0, 0, 0]))"
   ]
  },
  {
   "cell_type": "code",
   "execution_count": 224,
   "id": "60e28dba",
   "metadata": {},
   "outputs": [
    {
     "data": {
      "image/png": "[encoded data removed]",
      "text/latex": [
       "$\\displaystyle \\left\\{ M_{T} : 10.5, \\  P_{T} : 1.375, \\  S : 0.0, \\  \\hat{\\pi_T} : 0.375, \\  g_{T} : t_{T} - 8.0\\right\\}$"
      ],
      "text/plain": [
       "{M_T: 10.5, P_T: 1.375, S: 0.0, \\hat{\\pi_T}: 0.375, g_T: t_T - 8.0}"
      ]
     },
     "execution_count": 224,
     "metadata": {},
     "output_type": "execute_result"
    }
   ],
   "source": [
    "solution = solve(\n",
    "    equations.subs(values).subs(targets),\n",
    ")[0]\n",
    "solution"
   ]
  },
  {
   "cell_type": "code",
   "execution_count": 225,
   "id": "863af8e8",
   "metadata": {},
   "outputs": [
    {
     "data": {
      "image/png": "[encoded data removed]",
      "text/latex": [
       "$\\displaystyle \\hat{\\pi_T} = 0.375$"
      ],
      "text/plain": [
       "\\hat{\\pi_T} = 0.375"
      ]
     },
     "execution_count": 225,
     "metadata": {},
     "output_type": "execute_result"
    }
   ],
   "source": [
    "Eq(target_pi_T, solution.get(target_pi_T))"
   ]
  }
 ],
 "metadata": {
  "kernelspec": {
   "display_name": "Python 3 (ipykernel)",
   "language": "python",
   "name": "python3"
  },
  "language_info": {
   "codemirror_mode": {
    "name": "ipython",
    "version": 3
   },
   "file_extension": ".py",
   "mimetype": "text/x-python",
   "name": "python",
   "nbconvert_exporter": "python",
   "pygments_lexer": "ipython3",
   "version": "3.10.8"
  }
 },
 "nbformat": 4,
 "nbformat_minor": 5
}
